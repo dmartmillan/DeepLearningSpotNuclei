{
 "cells": [
  {
   "cell_type": "code",
   "execution_count": 1,
   "id": "b6bee643",
   "metadata": {},
   "outputs": [],
   "source": [
    "from PIL import Image\n",
    "from IPython.display import Image as DPImage\n",
    "import os\n",
    "import numpy as np\n",
    "from random import sample\n",
    "import matplotlib.pyplot as plt\n",
    "%matplotlib inline\n",
    "import sklearn as sk\n",
    "import pandas as pd\n",
    "import tensorflow as tf\n",
    "from tensorflow import keras\n",
    "import random\n",
    "import csv\n",
    "import skimage\n",
    "\n",
    "from sklearn.model_selection import train_test_split\n",
    "\n",
    "from tensorflow.keras.datasets import cifar100\n",
    "from tensorflow.keras.preprocessing.image import ImageDataGenerator\n",
    "from tensorflow.keras.models import Sequential\n",
    "from tensorflow.keras.layers import Dense, Dropout, Flatten, BatchNormalization, Activation\n",
    "from tensorflow.keras.layers import Conv2D, MaxPooling2D, Conv2DTranspose, Concatenate\n",
    "from tensorflow.keras.constraints import max_norm\n",
    "from tensorflow.keras.optimizers import Adam\n",
    "from tensorflow.keras.callbacks import EarlyStopping\n",
    "from tensorflow.keras.models import load_model, Model\n",
    "from tensorflow.keras import Input\n",
    "\n",
    "seed = 2023\n",
    "np.random.seed(seed)  "
   ]
  },
  {
   "cell_type": "markdown",
   "id": "fc1623b3",
   "metadata": {},
   "source": [
    "# Useful Functions"
   ]
  },
  {
   "cell_type": "code",
   "execution_count": 2,
   "id": "c0e681b4",
   "metadata": {},
   "outputs": [],
   "source": [
    "def display_img(image, title=''):\n",
    "    plt.title(title)\n",
    "    plt.imshow(tf.keras.utils.array_to_img(image))\n",
    "    plt.axis('off')\n",
    "    plt.show()\n",
    "\n",
    "def plot_history(history, steps_per_epoch = 0, y_axis_lower_bound = -1):\n",
    "    \n",
    "    if steps_per_epoch >0:\n",
    "        xvals = int(steps_per_epoch)*np.array(history.epoch)\n",
    "        xlab = 'Weight update steps'\n",
    "    else:\n",
    "        xvals = np.array(history.epoch)\n",
    "        xlab = 'Epochs'\n",
    "\n",
    "\n",
    "    plt.figure(figsize = (12,4))\n",
    "    plt.subplot(1,2,1)\n",
    "    plt.xlabel(xlab)\n",
    "    plt.ylabel('Accuracy')\n",
    "    plt.plot(xvals, np.array(history.history['accuracy']),'g-', \n",
    "             label='Train accuracy')\n",
    "    plt.plot(xvals, np.array(history.history['val_accuracy']),'r-',\n",
    "             label = 'Validation accuracy')\n",
    "    if y_axis_lower_bound>-1:\n",
    "        plt.ylim([y_axis_lower_bound,1])\n",
    "    plt.legend()\n",
    "\n",
    "    plt.subplot(1,2,2)\n",
    "    plt.xlabel(xlab)\n",
    "    plt.ylabel('Loss minimised by model')\n",
    "    plt.plot(xvals, np.array(history.history['loss']),'g-', \n",
    "             label='Train loss')\n",
    "    plt.plot(xvals, np.array(history.history['val_loss']),'r-',\n",
    "             label = 'Validation loss')\n",
    "    plt.legend()"
   ]
  },
  {
   "cell_type": "markdown",
   "id": "c274fb2c",
   "metadata": {},
   "source": [
    "# Load + Pre-Process Data"
   ]
  },
  {
   "cell_type": "code",
   "execution_count": 3,
   "id": "e9f7b25b",
   "metadata": {},
   "outputs": [],
   "source": [
    "def readAndResizeImages(data_dir, with_labels=True):\n",
    "    image_ids = os.listdir(data_dir)\n",
    "    X = np.zeros((len(image_ids), 128, 128, 3), dtype=np.uint8)\n",
    "    Y = np.zeros((len(image_ids), 128, 128, 1), dtype=np.bool_)\n",
    "    for i in range(len(image_ids)):\n",
    "        sample = {}\n",
    "\n",
    "        path_images = f\"{data_dir}/{image_ids[i]}/images\"\n",
    "        filename_image = os.listdir(path_images)[0]\n",
    "        image = tf.keras.utils.load_img(f\"{path_images}/{filename_image}\")\n",
    "        image = tf.image.resize(image, [128, 128])\n",
    "        X[i] = image\n",
    "        \n",
    "        if with_labels:\n",
    "            path_mask = f\"{data_dir}/{image_ids[i]}/combined_masks\"\n",
    "            filename_mask = os.listdir(path_mask)[0]\n",
    "            mask = tf.keras.utils.load_img(f\"{path_mask}/{filename_mask}\")\n",
    "            mask = tf.image.resize(mask, [128, 128], method = tf.image.ResizeMethod.NEAREST_NEIGHBOR)[:,:,:1]\n",
    "            Y[i] = mask\n",
    "    \n",
    "    return X, Y, image_ids"
   ]
  },
  {
   "cell_type": "code",
   "execution_count": 4,
   "id": "fc8ff073",
   "metadata": {},
   "outputs": [
    {
     "name": "stderr",
     "output_type": "stream",
     "text": [
      "2023-04-29 13:02:31.593762: I tensorflow/core/common_runtime/gpu/gpu_device.cc:1525] Created device /job:localhost/replica:0/task:0/device:GPU:0 with 30999 MB memory:  -> device: 0, name: Tesla V100-SXM2-32GB, pci bus id: 0000:af:00.0, compute capability: 7.0\n"
     ]
    }
   ],
   "source": [
    "X_train, Y_train, imageIDs_train = readAndResizeImages(\"./data/stage1_train\")\n",
    "X_val, Y_val, imageIDs_val = readAndResizeImages(\"./data/stage1_test\")\n",
    "X_test, _, imageIDs_test = readAndResizeImages(\"./data/stage2_test_final\", with_labels=False)"
   ]
  },
  {
   "cell_type": "code",
   "execution_count": 5,
   "id": "b941ac05",
   "metadata": {},
   "outputs": [
    {
     "data": {
      "image/png": "[encoded data removed]",
      "text/plain": [
       "<Figure size 432x288 with 1 Axes>"
      ]
     },
     "metadata": {
      "needs_background": "light"
     },
     "output_type": "display_data"
    },
    {
     "data": {
      "image/png": "[encoded data removed]",
      "text/plain": [
       "<Figure size 432x288 with 1 Axes>"
      ]
     },
     "metadata": {
      "needs_background": "light"
     },
     "output_type": "display_data"
    }
   ],
   "source": [
    "display_img(X_train[1])\n",
    "display_img(Y_train[1])"
   ]
  },
  {
   "cell_type": "markdown",
   "id": "bb5f8a74",
   "metadata": {},
   "source": [
    "# Train Model"
   ]
  },
  {
   "cell_type": "code",
   "execution_count": 6,
   "id": "60a652ca",
   "metadata": {},
   "outputs": [],
   "source": [
    "# The convolation block \n",
    "def conv_block(input, num_filters):\n",
    "    x = Conv2D(num_filters, 3, padding=\"same\")(input)\n",
    "    x = BatchNormalization()(x)\n",
    "    x = Activation(\"relu\")(x)\n",
    "    x = Conv2D(num_filters, 3, padding=\"same\")(x)\n",
    "    x = BatchNormalization()(x)\n",
    "    x = Activation(\"relu\")(x)\n",
    "    \n",
    "    return x\n",
    "\n",
    "\n",
    "# The encoder block\n",
    "def encoder_block(input, num_filters):\n",
    "    x = conv_block(input, num_filters)\n",
    "    p = MaxPooling2D((2, 2))(x)\n",
    "    \n",
    "    return x, p\n",
    "\n",
    "\n",
    "# The decoder block\n",
    "def decoder_block(input, skip_features, num_filters):\n",
    "    x = Conv2DTranspose(num_filters, (2, 2), strides=2, padding=\"same\")(input)\n",
    "    x = Concatenate()([x, skip_features])\n",
    "    x = conv_block(x, num_filters)\n",
    "\n",
    "    return x"
   ]
  },
  {
   "cell_type": "code",
   "execution_count": 7,
   "id": "af4422bb",
   "metadata": {},
   "outputs": [],
   "source": [
    "def create_model(input_shape, LR):\n",
    "    inputs = Input(input_shape)\n",
    "\n",
    "    s1, p1 = encoder_block(inputs, 64)\n",
    "    s2, p2 = encoder_block(p1, 128)\n",
    "    s3, p3 = encoder_block(p2, 256)\n",
    "    s4, p4 = encoder_block(p3, 512)\n",
    "\n",
    "    b1 = conv_block(p4, 1024)\n",
    "\n",
    "    d1 = decoder_block(b1, s4, 512)\n",
    "    d2 = decoder_block(d1, s3, 256)\n",
    "    d3 = decoder_block(d2, s2, 128)\n",
    "    d4 = decoder_block(d3, s1, 64)\n",
    "\n",
    "    outputs = Conv2D(1, 1, padding=\"same\", activation=\"sigmoid\")(d4)\n",
    "\n",
    "    model = Model(inputs=inputs, outputs=outputs)\n",
    "\n",
    "    model.compile(optimizer=Adam(learning_rate=LR), \n",
    "                  loss='categorical_crossentropy', \n",
    "                  metrics=['accuracy'])\n",
    "\n",
    "    return model"
   ]
  },
  {
   "cell_type": "code",
   "execution_count": 8,
   "id": "677d3c8a",
   "metadata": {},
   "outputs": [
    {
     "name": "stdout",
     "output_type": "stream",
     "text": [
      "Model: \"model\"\n",
      "__________________________________________________________________________________________________\n",
      " Layer (type)                   Output Shape         Param #     Connected to                     \n",
      "==================================================================================================\n",
      " input_1 (InputLayer)           [(None, 128, 128, 3  0           []                               \n",
      "                                )]                                                                \n",
      "                                                                                                  \n",
      " conv2d (Conv2D)                (None, 128, 128, 64  1792        ['input_1[0][0]']                \n",
      "                                )                                                                 \n",
      "                                                                                                  \n",
      " batch_normalization (BatchNorm  (None, 128, 128, 64  256        ['conv2d[0][0]']                 \n",
      " alization)                     )                                                                 \n",
      "                                                                                                  \n",
      " activation (Activation)        (None, 128, 128, 64  0           ['batch_normalization[0][0]']    \n",
      "                                )                                                                 \n",
      "                                                                                                  \n",
      " conv2d_1 (Conv2D)              (None, 128, 128, 64  36928       ['activation[0][0]']             \n",
      "                                )                                                                 \n",
      "                                                                                                  \n",
      " batch_normalization_1 (BatchNo  (None, 128, 128, 64  256        ['conv2d_1[0][0]']               \n",
      " rmalization)                   )                                                                 \n",
      "                                                                                                  \n",
      " activation_1 (Activation)      (None, 128, 128, 64  0           ['batch_normalization_1[0][0]']  \n",
      "                                )                                                                 \n",
      "                                                                                                  \n",
      " max_pooling2d (MaxPooling2D)   (None, 64, 64, 64)   0           ['activation_1[0][0]']           \n",
      "                                                                                                  \n",
      " conv2d_2 (Conv2D)              (None, 64, 64, 128)  73856       ['max_pooling2d[0][0]']          \n",
      "                                                                                                  \n",
      " batch_normalization_2 (BatchNo  (None, 64, 64, 128)  512        ['conv2d_2[0][0]']               \n",
      " rmalization)                                                                                     \n",
      "                                                                                                  \n",
      " activation_2 (Activation)      (None, 64, 64, 128)  0           ['batch_normalization_2[0][0]']  \n",
      "                                                                                                  \n",
      " conv2d_3 (Conv2D)              (None, 64, 64, 128)  147584      ['activation_2[0][0]']           \n",
      "                                                                                                  \n",
      " batch_normalization_3 (BatchNo  (None, 64, 64, 128)  512        ['conv2d_3[0][0]']               \n",
      " rmalization)                                                                                     \n",
      "                                                                                                  \n",
      " activation_3 (Activation)      (None, 64, 64, 128)  0           ['batch_normalization_3[0][0]']  \n",
      "                                                                                                  \n",
      " max_pooling2d_1 (MaxPooling2D)  (None, 32, 32, 128)  0          ['activation_3[0][0]']           \n",
      "                                                                                                  \n",
      " conv2d_4 (Conv2D)              (None, 32, 32, 256)  295168      ['max_pooling2d_1[0][0]']        \n",
      "                                                                                                  \n",
      " batch_normalization_4 (BatchNo  (None, 32, 32, 256)  1024       ['conv2d_4[0][0]']               \n",
      " rmalization)                                                                                     \n",
      "                                                                                                  \n",
      " activation_4 (Activation)      (None, 32, 32, 256)  0           ['batch_normalization_4[0][0]']  \n",
      "                                                                                                  \n",
      " conv2d_5 (Conv2D)              (None, 32, 32, 256)  590080      ['activation_4[0][0]']           \n",
      "                                                                                                  \n",
      " batch_normalization_5 (BatchNo  (None, 32, 32, 256)  1024       ['conv2d_5[0][0]']               \n",
      " rmalization)                                                                                     \n",
      "                                                                                                  \n",
      " activation_5 (Activation)      (None, 32, 32, 256)  0           ['batch_normalization_5[0][0]']  \n",
      "                                                                                                  \n",
      " max_pooling2d_2 (MaxPooling2D)  (None, 16, 16, 256)  0          ['activation_5[0][0]']           \n",
      "                                                                                                  \n",
      " conv2d_6 (Conv2D)              (None, 16, 16, 512)  1180160     ['max_pooling2d_2[0][0]']        \n",
      "                                                                                                  \n",
      " batch_normalization_6 (BatchNo  (None, 16, 16, 512)  2048       ['conv2d_6[0][0]']               \n",
      " rmalization)                                                                                     \n",
      "                                                                                                  \n",
      " activation_6 (Activation)      (None, 16, 16, 512)  0           ['batch_normalization_6[0][0]']  \n",
      "                                                                                                  \n",
      " conv2d_7 (Conv2D)              (None, 16, 16, 512)  2359808     ['activation_6[0][0]']           \n",
      "                                                                                                  \n",
      " batch_normalization_7 (BatchNo  (None, 16, 16, 512)  2048       ['conv2d_7[0][0]']               \n",
      " rmalization)                                                                                     \n",
      "                                                                                                  \n",
      " activation_7 (Activation)      (None, 16, 16, 512)  0           ['batch_normalization_7[0][0]']  \n",
      "                                                                                                  \n",
      " max_pooling2d_3 (MaxPooling2D)  (None, 8, 8, 512)   0           ['activation_7[0][0]']           \n",
      "                                                                                                  \n",
      " conv2d_8 (Conv2D)              (None, 8, 8, 1024)   4719616     ['max_pooling2d_3[0][0]']        \n",
      "                                                                                                  \n",
      " batch_normalization_8 (BatchNo  (None, 8, 8, 1024)  4096        ['conv2d_8[0][0]']               \n",
      " rmalization)                                                                                     \n",
      "                                                                                                  \n",
      " activation_8 (Activation)      (None, 8, 8, 1024)   0           ['batch_normalization_8[0][0]']  \n",
      "                                                                                                  \n",
      " conv2d_9 (Conv2D)              (None, 8, 8, 1024)   9438208     ['activation_8[0][0]']           \n",
      "                                                                                                  \n",
      " batch_normalization_9 (BatchNo  (None, 8, 8, 1024)  4096        ['conv2d_9[0][0]']               \n",
      " rmalization)                                                                                     \n",
      "                                                                                                  \n",
      " activation_9 (Activation)      (None, 8, 8, 1024)   0           ['batch_normalization_9[0][0]']  \n",
      "                                                                                                  \n",
      " conv2d_transpose (Conv2DTransp  (None, 16, 16, 512)  2097664    ['activation_9[0][0]']           \n",
      " ose)                                                                                             \n",
      "                                                                                                  \n",
      " concatenate (Concatenate)      (None, 16, 16, 1024  0           ['conv2d_transpose[0][0]',       \n",
      "                                )                                 'activation_7[0][0]']           \n",
      "                                                                                                  \n",
      " conv2d_10 (Conv2D)             (None, 16, 16, 512)  4719104     ['concatenate[0][0]']            \n",
      "                                                                                                  \n",
      " batch_normalization_10 (BatchN  (None, 16, 16, 512)  2048       ['conv2d_10[0][0]']              \n",
      " ormalization)                                                                                    \n",
      "                                                                                                  \n",
      " activation_10 (Activation)     (None, 16, 16, 512)  0           ['batch_normalization_10[0][0]'] \n",
      "                                                                                                  \n",
      " conv2d_11 (Conv2D)             (None, 16, 16, 512)  2359808     ['activation_10[0][0]']          \n",
      "                                                                                                  \n",
      " batch_normalization_11 (BatchN  (None, 16, 16, 512)  2048       ['conv2d_11[0][0]']              \n",
      " ormalization)                                                                                    \n",
      "                                                                                                  \n",
      " activation_11 (Activation)     (None, 16, 16, 512)  0           ['batch_normalization_11[0][0]'] \n",
      "                                                                                                  \n",
      " conv2d_transpose_1 (Conv2DTran  (None, 32, 32, 256)  524544     ['activation_11[0][0]']          \n",
      " spose)                                                                                           \n",
      "                                                                                                  \n",
      " concatenate_1 (Concatenate)    (None, 32, 32, 512)  0           ['conv2d_transpose_1[0][0]',     \n",
      "                                                                  'activation_5[0][0]']           \n",
      "                                                                                                  \n",
      " conv2d_12 (Conv2D)             (None, 32, 32, 256)  1179904     ['concatenate_1[0][0]']          \n",
      "                                                                                                  \n",
      " batch_normalization_12 (BatchN  (None, 32, 32, 256)  1024       ['conv2d_12[0][0]']              \n",
      " ormalization)                                                                                    \n",
      "                                                                                                  \n",
      " activation_12 (Activation)     (None, 32, 32, 256)  0           ['batch_normalization_12[0][0]'] \n",
      "                                                                                                  \n",
      " conv2d_13 (Conv2D)             (None, 32, 32, 256)  590080      ['activation_12[0][0]']          \n",
      "                                                                                                  \n",
      " batch_normalization_13 (BatchN  (None, 32, 32, 256)  1024       ['conv2d_13[0][0]']              \n",
      " ormalization)                                                                                    \n",
      "                                                                                                  \n",
      " activation_13 (Activation)     (None, 32, 32, 256)  0           ['batch_normalization_13[0][0]'] \n",
      "                                                                                                  \n",
      " conv2d_transpose_2 (Conv2DTran  (None, 64, 64, 128)  131200     ['activation_13[0][0]']          \n",
      " spose)                                                                                           \n",
      "                                                                                                  \n",
      " concatenate_2 (Concatenate)    (None, 64, 64, 256)  0           ['conv2d_transpose_2[0][0]',     \n",
      "                                                                  'activation_3[0][0]']           \n",
      "                                                                                                  \n",
      " conv2d_14 (Conv2D)             (None, 64, 64, 128)  295040      ['concatenate_2[0][0]']          \n",
      "                                                                                                  \n",
      " batch_normalization_14 (BatchN  (None, 64, 64, 128)  512        ['conv2d_14[0][0]']              \n",
      " ormalization)                                                                                    \n",
      "                                                                                                  \n",
      " activation_14 (Activation)     (None, 64, 64, 128)  0           ['batch_normalization_14[0][0]'] \n",
      "                                                                                                  \n",
      " conv2d_15 (Conv2D)             (None, 64, 64, 128)  147584      ['activation_14[0][0]']          \n",
      "                                                                                                  \n",
      " batch_normalization_15 (BatchN  (None, 64, 64, 128)  512        ['conv2d_15[0][0]']              \n",
      " ormalization)                                                                                    \n",
      "                                                                                                  \n",
      " activation_15 (Activation)     (None, 64, 64, 128)  0           ['batch_normalization_15[0][0]'] \n",
      "                                                                                                  \n",
      " conv2d_transpose_3 (Conv2DTran  (None, 128, 128, 64  32832      ['activation_15[0][0]']          \n",
      " spose)                         )                                                                 \n",
      "                                                                                                  \n",
      " concatenate_3 (Concatenate)    (None, 128, 128, 12  0           ['conv2d_transpose_3[0][0]',     \n",
      "                                8)                                'activation_1[0][0]']           \n",
      "                                                                                                  \n",
      " conv2d_16 (Conv2D)             (None, 128, 128, 64  73792       ['concatenate_3[0][0]']          \n",
      "                                )                                                                 \n",
      "                                                                                                  \n",
      " batch_normalization_16 (BatchN  (None, 128, 128, 64  256        ['conv2d_16[0][0]']              \n",
      " ormalization)                  )                                                                 \n",
      "                                                                                                  \n",
      " activation_16 (Activation)     (None, 128, 128, 64  0           ['batch_normalization_16[0][0]'] \n",
      "                                )                                                                 \n",
      "                                                                                                  \n",
      " conv2d_17 (Conv2D)             (None, 128, 128, 64  36928       ['activation_16[0][0]']          \n",
      "                                )                                                                 \n",
      "                                                                                                  \n",
      " batch_normalization_17 (BatchN  (None, 128, 128, 64  256        ['conv2d_17[0][0]']              \n",
      " ormalization)                  )                                                                 \n",
      "                                                                                                  \n",
      " activation_17 (Activation)     (None, 128, 128, 64  0           ['batch_normalization_17[0][0]'] \n",
      "                                )                                                                 \n",
      "                                                                                                  \n",
      " conv2d_18 (Conv2D)             (None, 128, 128, 1)  65          ['activation_17[0][0]']          \n",
      "                                                                                                  \n",
      "==================================================================================================\n",
      "Total params: 31,055,297\n",
      "Trainable params: 31,043,521\n",
      "Non-trainable params: 11,776\n",
      "__________________________________________________________________________________________________\n"
     ]
    }
   ],
   "source": [
    "batch_size = 32\n",
    "batches_per_epoch = int(len(X_train)/batch_size) \n",
    "epochs = 50\n",
    "LR = 0.0001\n",
    "stopping_patience = 10\n",
    "stopping_delta = 0.001\n",
    "\n",
    "model = create_model((128, 128, 3), LR)\n",
    "model.summary()"
   ]
  },
  {
   "cell_type": "code",
   "execution_count": 9,
   "id": "7e138236",
   "metadata": {},
   "outputs": [
    {
     "name": "stdout",
     "output_type": "stream",
     "text": [
      "Epoch 1/50\n"
     ]
    },
    {
     "name": "stderr",
     "output_type": "stream",
     "text": [
      "2023-04-29 13:04:04.480271: I tensorflow/stream_executor/cuda/cuda_dnn.cc:366] Loaded cuDNN version 8202\n"
     ]
    },
    {
     "name": "stdout",
     "output_type": "stream",
     "text": [
      "21/21 [==============================] - 30s 243ms/step - loss: 0.0000e+00 - accuracy: 0.8696 - val_loss: 0.0000e+00 - val_accuracy: 0.8044\n",
      "Epoch 2/50\n",
      "21/21 [==============================] - 3s 135ms/step - loss: 0.0000e+00 - accuracy: 0.9168 - val_loss: 0.0000e+00 - val_accuracy: 0.7490\n",
      "Epoch 3/50\n",
      "21/21 [==============================] - 3s 139ms/step - loss: 0.0000e+00 - accuracy: 0.9443 - val_loss: 0.0000e+00 - val_accuracy: 0.8409\n",
      "Epoch 4/50\n",
      "21/21 [==============================] - 3s 139ms/step - loss: 0.0000e+00 - accuracy: 0.9532 - val_loss: 0.0000e+00 - val_accuracy: 0.8516\n",
      "Epoch 5/50\n",
      "21/21 [==============================] - 3s 139ms/step - loss: 0.0000e+00 - accuracy: 0.9575 - val_loss: 0.0000e+00 - val_accuracy: 0.8713\n",
      "Epoch 6/50\n",
      "21/21 [==============================] - 3s 139ms/step - loss: 0.0000e+00 - accuracy: 0.9608 - val_loss: 0.0000e+00 - val_accuracy: 0.8767\n",
      "Epoch 7/50\n",
      "21/21 [==============================] - 3s 140ms/step - loss: 0.0000e+00 - accuracy: 0.9623 - val_loss: 0.0000e+00 - val_accuracy: 0.8849\n",
      "Epoch 8/50\n",
      "21/21 [==============================] - 3s 139ms/step - loss: 0.0000e+00 - accuracy: 0.9642 - val_loss: 0.0000e+00 - val_accuracy: 0.9045\n",
      "Epoch 9/50\n",
      "21/21 [==============================] - 3s 140ms/step - loss: 0.0000e+00 - accuracy: 0.9641 - val_loss: 0.0000e+00 - val_accuracy: 0.9058\n",
      "Epoch 10/50\n",
      "21/21 [==============================] - 3s 140ms/step - loss: 0.0000e+00 - accuracy: 0.9646 - val_loss: 0.0000e+00 - val_accuracy: 0.9151\n",
      "Epoch 11/50\n",
      "21/21 [==============================] - 3s 139ms/step - loss: 0.0000e+00 - accuracy: 0.9647 - val_loss: 0.0000e+00 - val_accuracy: 0.9239\n",
      "Epoch 12/50\n",
      "21/21 [==============================] - 3s 140ms/step - loss: 0.0000e+00 - accuracy: 0.9649 - val_loss: 0.0000e+00 - val_accuracy: 0.9278\n",
      "Epoch 13/50\n",
      "21/21 [==============================] - 3s 136ms/step - loss: 0.0000e+00 - accuracy: 0.9647 - val_loss: 0.0000e+00 - val_accuracy: 0.9194\n",
      "Epoch 14/50\n",
      "21/21 [==============================] - 3s 136ms/step - loss: 0.0000e+00 - accuracy: 0.9647 - val_loss: 0.0000e+00 - val_accuracy: 0.9264\n",
      "Epoch 15/50\n",
      "21/21 [==============================] - 3s 140ms/step - loss: 0.0000e+00 - accuracy: 0.9630 - val_loss: 0.0000e+00 - val_accuracy: 0.9295\n",
      "Epoch 16/50\n",
      "21/21 [==============================] - 3s 140ms/step - loss: 0.0000e+00 - accuracy: 0.9614 - val_loss: 0.0000e+00 - val_accuracy: 0.9345\n",
      "Epoch 17/50\n",
      "21/21 [==============================] - 3s 136ms/step - loss: 0.0000e+00 - accuracy: 0.9601 - val_loss: 0.0000e+00 - val_accuracy: 0.9319\n",
      "Epoch 18/50\n",
      "21/21 [==============================] - 3s 136ms/step - loss: 0.0000e+00 - accuracy: 0.9589 - val_loss: 0.0000e+00 - val_accuracy: 0.9226\n",
      "Epoch 19/50\n",
      "21/21 [==============================] - 3s 136ms/step - loss: 0.0000e+00 - accuracy: 0.9600 - val_loss: 0.0000e+00 - val_accuracy: 0.9285\n",
      "Epoch 20/50\n",
      "21/21 [==============================] - 3s 136ms/step - loss: 0.0000e+00 - accuracy: 0.9586 - val_loss: 0.0000e+00 - val_accuracy: 0.9074\n",
      "Epoch 21/50\n",
      "21/21 [==============================] - 3s 137ms/step - loss: 0.0000e+00 - accuracy: 0.9603 - val_loss: 0.0000e+00 - val_accuracy: 0.9253\n",
      "Epoch 22/50\n",
      "21/21 [==============================] - 3s 137ms/step - loss: 0.0000e+00 - accuracy: 0.9560 - val_loss: 0.0000e+00 - val_accuracy: 0.9284\n",
      "Epoch 23/50\n",
      "21/21 [==============================] - 3s 136ms/step - loss: 0.0000e+00 - accuracy: 0.9565 - val_loss: 0.0000e+00 - val_accuracy: 0.8484\n",
      "Epoch 24/50\n",
      "21/21 [==============================] - 3s 137ms/step - loss: 0.0000e+00 - accuracy: 0.9533 - val_loss: 0.0000e+00 - val_accuracy: 0.6361\n",
      "Epoch 25/50\n",
      "21/21 [==============================] - 3s 136ms/step - loss: 0.0000e+00 - accuracy: 0.9534 - val_loss: 0.0000e+00 - val_accuracy: 0.9153\n",
      "Epoch 26/50\n",
      "21/21 [==============================] - ETA: 0s - loss: 0.0000e+00 - accuracy: 0.9519Restoring model weights from the end of the best epoch: 16.\n",
      "21/21 [==============================] - 3s 140ms/step - loss: 0.0000e+00 - accuracy: 0.9519 - val_loss: 0.0000e+00 - val_accuracy: 0.9200\n",
      "Epoch 00026: early stopping\n"
     ]
    }
   ],
   "source": [
    "stopping_callback = tf.keras.callbacks.EarlyStopping(monitor='val_accuracy', \n",
    "                                                     patience=stopping_patience, \n",
    "                                                     min_delta=stopping_delta,\n",
    "                                                     verbose = 1,\n",
    "                                                     restore_best_weights=True)\n",
    "\n",
    "results = model.fit(X_train, Y_train, \n",
    "                    batch_size=batch_size,\n",
    "                    epochs=epochs,\n",
    "                    verbose=1,  \n",
    "                    validation_data=(X_val, Y_val),\n",
    "                    callbacks = [stopping_callback],\n",
    "                    shuffle=True)"
   ]
  },
  {
   "cell_type": "code",
   "execution_count": 10,
   "id": "4c2bf36b",
   "metadata": {},
   "outputs": [
    {
     "name": "stdout",
     "output_type": "stream",
     "text": [
      "Training set Accuracy: 0.9669\n",
      "Training set Loss:0.000000\n",
      "\n",
      "Validation set Accuracy: 0.9345\n",
      "Validation set Loss:0.000000\n",
      "\n"
     ]
    },
    {
     "data": {
      "image/png": "[encoded data removed]",
      "text/plain": [
       "<Figure size 864x288 with 2 Axes>"
      ]
     },
     "metadata": {
      "needs_background": "light"
     },
     "output_type": "display_data"
    }
   ],
   "source": [
    "[train_loss, train_accuracy] = model.evaluate(X_train, Y_train, verbose=0)\n",
    "print(\"Training set Accuracy:{:7.4f}\".format(train_accuracy))\n",
    "print(\"Training set Loss:{:7.6f}\\n\".format(train_loss))\n",
    "\n",
    "[val_loss, val_accuracy] = model.evaluate(X_val, Y_val, verbose=0)\n",
    "print(\"Validation set Accuracy:{:7.4f}\".format(val_accuracy))\n",
    "print(\"Validation set Loss:{:7.6f}\\n\".format(val_loss))\n",
    "\n",
    "plot_history(results)"
   ]
  },
  {
   "cell_type": "markdown",
   "id": "4db74a96",
   "metadata": {},
   "source": [
    "## Testing"
   ]
  },
  {
   "cell_type": "code",
   "execution_count": 11,
   "id": "b462af01",
   "metadata": {},
   "outputs": [
    {
     "name": "stdout",
     "output_type": "stream",
     "text": [
      "21/21 [==============================] - 1s 39ms/step\n",
      "3/3 [==============================] - 0s 39ms/step\n",
      "95/95 [==============================] - 4s 42ms/step\n"
     ]
    }
   ],
   "source": [
    "preds_train = model.predict(X_train, verbose=1)\n",
    "preds_val = model.predict(X_val, verbose=1)\n",
    "preds_test = model.predict(X_test, verbose=1)"
   ]
  },
  {
   "cell_type": "code",
   "execution_count": 12,
   "id": "cce72bc7",
   "metadata": {},
   "outputs": [
    {
     "data": {
      "image/png": "[encoded data removed]",
      "text/plain": [
       "<Figure size 432x288 with 1 Axes>"
      ]
     },
     "metadata": {
      "needs_background": "light"
     },
     "output_type": "display_data"
    },
    {
     "data": {
      "image/png": "[encoded data removed]",
      "text/plain": [
       "<Figure size 432x288 with 1 Axes>"
      ]
     },
     "metadata": {
      "needs_background": "light"
     },
     "output_type": "display_data"
    },
    {
     "data": {
      "image/png": "[encoded data removed]",
      "text/plain": [
       "<Figure size 432x288 with 1 Axes>"
      ]
     },
     "metadata": {
      "needs_background": "light"
     },
     "output_type": "display_data"
    }
   ],
   "source": [
    "preds_train_t = (preds_train > 0.5).astype(np.uint8)\n",
    "preds_val_t = (preds_val > 0.5).astype(np.uint8)\n",
    "preds_test_t = (preds_test > 0.5).astype(np.uint8)\n",
    "\n",
    "ix = random.randint(0, len(preds_val_t))\n",
    "ix = 78\n",
    "display_img(X_train[ix], title=\"image\")\n",
    "display_img(Y_train[ix], title=\"mask\")\n",
    "display_img(preds_train_t[ix], title=\"predicted\")"
   ]
  },
  {
   "cell_type": "code",
   "execution_count": 13,
   "id": "5d8bdb98",
   "metadata": {},
   "outputs": [
    {
     "data": {
      "text/plain": [
       "78"
      ]
     },
     "execution_count": 13,
     "metadata": {},
     "output_type": "execute_result"
    }
   ],
   "source": [
    "ix"
   ]
  },
  {
   "cell_type": "markdown",
   "id": "3994963c",
   "metadata": {},
   "source": [
    "## Export Predicted masks to CSV"
   ]
  },
  {
   "cell_type": "code",
   "execution_count": 15,
   "id": "3408113f",
   "metadata": {},
   "outputs": [],
   "source": [
    "testset_predictions = (preds_test > 0.5).astype(np.uint8)"
   ]
  },
  {
   "cell_type": "code",
   "execution_count": 56,
   "id": "4235bd81",
   "metadata": {
    "scrolled": false
   },
   "outputs": [
    {
     "name": "stdout",
     "output_type": "stream",
     "text": [
      "Saving 3019 predictions\n",
      "5%\n",
      "10%\n",
      "15%\n",
      "20%\n",
      "25%\n",
      "30%\n",
      "35%\n",
      "40%\n",
      "45%\n",
      "50%\n",
      "55%\n",
      "60%\n",
      "65%\n",
      "70%\n",
      "75%\n",
      "80%\n",
      "85%\n",
      "90%\n",
      "95%\n",
      "100%\n",
      "\n",
      "Found 72769 nuclei in 3019 images\n"
     ]
    }
   ],
   "source": [
    "template_csv = \"./data/stage2_sample_submission_final.csv\"\n",
    "image_dir = \"./data/stage2_test_final\"\n",
    "output_csv = \"submission_test.csv\"\n",
    "\n",
    "show_no_nuclei_images = False\n",
    "\n",
    "print(f\"Saving {testset_predictions.shape[0]} predictions\")\n",
    "with open(output_csv, 'w', newline='') as output_csvfile:\n",
    "    writer = csv.DictWriter(output_csvfile, fieldnames=[\"ImageId\", \"EncodedPixels\"])\n",
    "    writer.writeheader()\n",
    "    total_nucleus_count = 0\n",
    "    \n",
    "    progress_indices = np.linspace(0, testset_predictions.shape[0], 21, dtype=int)\n",
    "    \n",
    "    with open(template_csv, newline='') as template_csvfile:\n",
    "        for i, (imgID, _) in enumerate(csv.reader(template_csvfile, delimiter=',')):\n",
    "            if i == 0: # Skip row with labels\n",
    "                continue\n",
    "\n",
    "            # Get Prediction For ImgID\n",
    "            prediction = testset_predictions[imageIDs_test.index(imgID)]\n",
    "\n",
    "            # Scale Predicted Mask Back To Original Image Size\n",
    "            original_image_size = Image.open(f\"{image_dir}/{imgID}/images/{os.listdir(f'{image_dir}/{imgID}/images')[0]}\").size\n",
    "            predicted_mask = tf.keras.utils.img_to_array(\n",
    "                tf.image.resize(prediction, original_image_size, method = tf.image.ResizeMethod.NEAREST_NEIGHBOR)\n",
    "            )[:, :, 0]\n",
    "            \n",
    "            predicted_mask_T = predicted_mask.transpose()\n",
    "            \n",
    "            # Label each nucleus in mask\n",
    "            (labeled_mask, nucleus_amount) = skimage.measure.label(predicted_mask_T, connectivity=2, background=0, return_num=True)\n",
    "            total_nucleus_count += nucleus_amount\n",
    "            if nucleus_amount == 0 and show_no_nuclei_images:\n",
    "                print(f\"No nuclei found for image {imgID}\")\n",
    "                try:\n",
    "                    display_img(Image.open(f\"{image_dir}/{imgID}/images/{os.listdir(f'{image_dir}/{imgID}/images')[0]}\"))\n",
    "                except:\n",
    "                    print(f\"Error while displaying image {imgID}\")\n",
    "            \n",
    "            # Calculate RLE\n",
    "            RLE = [[] for _ in range(nucleus_amount)]\n",
    "            curr_pixel = 1\n",
    "            run_length = 0\n",
    "            run_label = 0\n",
    "            \n",
    "            for i_c, c in enumerate(labeled_mask):\n",
    "                for i_r, x in enumerate(c):\n",
    "                    if x:\n",
    "                        if run_length == 0 or run_label != x:\n",
    "                            if run_length > 0:\n",
    "                                RLE[run_label-1].append(run_length)\n",
    "                                run_length = 0\n",
    "                            RLE[x-1].append(i_c * labeled_mask.shape[1] + i_r + 1)\n",
    "                            run_label = x\n",
    "                        run_length += 1\n",
    "                    elif run_length > 0:\n",
    "                        RLE[run_label-1].append(run_length)\n",
    "                        run_length = 0\n",
    "                        run_label = 0\n",
    "            if run_length > 0:\n",
    "                RLE[run_label-1].append(run_length)\n",
    "            \n",
    "            # Write To output file\n",
    "            for nucleus_RLE in RLE:\n",
    "                writer.writerow({\"ImageId\": imgID, \"EncodedPixels\": ' '.join(map(str, nucleus_RLE))})\n",
    "            \n",
    "            if nucleus_amount == 0: # default entry\n",
    "                writer.writerow({\"ImageId\": imgID, \"EncodedPixels\": ''})\n",
    "            \n",
    "            # Show sign of progress\n",
    "            if i in progress_indices:\n",
    "                print(f\"{np.where(progress_indices == i)[0][0] * 5}%\")\n",
    "    \n",
    "    print()\n",
    "    print(f\"Found {total_nucleus_count} nuclei in {testset_predictions.shape[0]} images\")"
   ]
  },
  {
   "cell_type": "code",
   "execution_count": null,
   "id": "c7ae34d9",
   "metadata": {},
   "outputs": [],
   "source": []
  }
 ],
 "metadata": {
  "kernelspec": {
   "display_name": "Python 3 (ipykernel)",
   "language": "python",
   "name": "python3"
  },
  "language_info": {
   "codemirror_mode": {
    "name": "ipython",
    "version": 3
   },
   "file_extension": ".py",
   "mimetype": "text/x-python",
   "name": "python",
   "nbconvert_exporter": "python",
   "pygments_lexer": "ipython3",
   "version": "3.9.6"
  }
 },
 "nbformat": 4,
 "nbformat_minor": 5
}
