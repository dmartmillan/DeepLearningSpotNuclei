{
 "cells": [
  {
   "cell_type": "code",
   "execution_count": 1,
   "id": "b6bee643",
   "metadata": {},
   "outputs": [],
   "source": [
    "from PIL import Image\n",
    "from IPython.display import Image as DPImage\n",
    "import os\n",
    "import numpy as np\n",
    "from random import sample\n",
    "import matplotlib.pyplot as plt\n",
    "%matplotlib inline\n",
    "import sklearn as sk\n",
    "import pandas as pd\n",
    "import tensorflow as tf\n",
    "from tensorflow import keras\n",
    "import random\n",
    "import csv\n",
    "import skimage\n",
    "\n",
    "from sklearn.model_selection import train_test_split\n",
    "\n",
    "from tensorflow.keras.datasets import cifar100\n",
    "from tensorflow.keras.preprocessing.image import ImageDataGenerator\n",
    "from tensorflow.keras.models import Sequential\n",
    "from tensorflow.keras.layers import Dense, Dropout, Flatten, BatchNormalization, Activation\n",
    "from tensorflow.keras.layers import Conv2D, MaxPooling2D, Conv2DTranspose, Concatenate\n",
    "from tensorflow.keras.constraints import max_norm\n",
    "from tensorflow.keras.optimizers import Adam\n",
    "from tensorflow.keras.callbacks import EarlyStopping\n",
    "from tensorflow.keras.models import load_model, Model\n",
    "from tensorflow.keras import Input\n",
    "\n",
    "seed = 2023\n",
    "np.random.seed(seed)  "
   ]
  },
  {
   "cell_type": "markdown",
   "id": "fc1623b3",
   "metadata": {},
   "source": [
    "# Useful Functions"
   ]
  },
  {
   "cell_type": "code",
   "execution_count": 2,
   "id": "c0e681b4",
   "metadata": {},
   "outputs": [],
   "source": [
    "def display_img(image, title=''):\n",
    "    plt.title(title)\n",
    "    plt.imshow(tf.keras.utils.array_to_img(image))\n",
    "    plt.axis('off')\n",
    "    plt.show()\n",
    "\n",
    "def plot_history(history, steps_per_epoch = 0, y_axis_lower_bound = -1):\n",
    "    \n",
    "    if steps_per_epoch >0:\n",
    "        xvals = int(steps_per_epoch)*np.array(history.epoch)\n",
    "        xlab = 'Weight update steps'\n",
    "    else:\n",
    "        xvals = np.array(history.epoch)\n",
    "        xlab = 'Epochs'\n",
    "\n",
    "\n",
    "    plt.figure(figsize = (12,4))\n",
    "    plt.subplot(1,2,1)\n",
    "    plt.xlabel(xlab)\n",
    "    plt.ylabel('Accuracy')\n",
    "    plt.plot(xvals, np.array(history.history['accuracy']),'g-', \n",
    "             label='Train accuracy')\n",
    "    plt.plot(xvals, np.array(history.history['val_accuracy']),'r-',\n",
    "             label = 'Validation accuracy')\n",
    "    if y_axis_lower_bound>-1:\n",
    "        plt.ylim([y_axis_lower_bound,1])\n",
    "    plt.legend()\n",
    "\n",
    "    plt.subplot(1,2,2)\n",
    "    plt.xlabel(xlab)\n",
    "    plt.ylabel('Loss minimised by model')\n",
    "    plt.plot(xvals, np.array(history.history['loss']),'g-', \n",
    "             label='Train loss')\n",
    "    plt.plot(xvals, np.array(history.history['val_loss']),'r-',\n",
    "             label = 'Validation loss')\n",
    "    plt.legend()"
   ]
  },
  {
   "cell_type": "markdown",
   "id": "c274fb2c",
   "metadata": {},
   "source": [
    "# Load Pre-Processed Data Croppings\n",
    "see preprocessing.ipynb"
   ]
  },
  {
   "cell_type": "code",
   "execution_count": 3,
   "id": "95014c11",
   "metadata": {},
   "outputs": [],
   "source": [
    "def loadCroppings(data_dir, image_croppings_dir, mask_croppings_dir=\"\"):\n",
    "    height = 128\n",
    "    width = 128\n",
    "    image_ids = os.listdir(data_dir)\n",
    "    \n",
    "    croppings_count = np.zeros(len(image_ids), dtype=np.uint8)\n",
    "    \n",
    "    X_size = 0\n",
    "    Y_size = 0\n",
    "    \n",
    "    for i, imgID in enumerate(image_ids):\n",
    "        path_images = f\"{data_dir}/{imgID}/{image_croppings_dir}\"\n",
    "        X_size += len(sorted(os.listdir(path_images)))\n",
    "        if mask_croppings_dir:\n",
    "            path_masks = f\"{data_dir}/{imgID}/{mask_croppings_dir}\"\n",
    "            Y_size += len(sorted(os.listdir(path_masks)))\n",
    "    \n",
    "    X = np.zeros((X_size, height, width), dtype=np.uint8)\n",
    "    Y = np.zeros((Y_size, height, width), dtype=np.bool_)\n",
    "    \n",
    "    j, k = 0, 0\n",
    "    for i, imgID in enumerate(image_ids):\n",
    "        path_images = f\"{data_dir}/{imgID}/{image_croppings_dir}\"\n",
    "        croppings = sorted(os.listdir(path_images))\n",
    "        croppings_count[i] = len(croppings)\n",
    "        for c in croppings:\n",
    "            X[j] = tf.convert_to_tensor(Image.open(f\"{path_images}/{c}\"))\n",
    "            #X.append(tf.keras.utils.load_img(f\"{path_images}/{c}\"))\n",
    "            j+=1\n",
    "\n",
    "        if mask_croppings_dir:\n",
    "            path_masks = f\"{data_dir}/{imgID}/{mask_croppings_dir}\"\n",
    "            \n",
    "            for c in sorted(os.listdir(path_masks)):\n",
    "                \n",
    "                Y[k] = tf.convert_to_tensor(Image.open(f\"{path_masks}/{c}\"))\n",
    "                #Y.append(tf.keras.utils.load_img(f\"{path_masks}/{c}\"))\n",
    "                k+=1\n",
    "        \n",
    "    return X, Y, image_ids"
   ]
  },
  {
   "cell_type": "code",
   "execution_count": 4,
   "id": "0d24f4e7",
   "metadata": {},
   "outputs": [
    {
     "name": "stderr",
     "output_type": "stream",
     "text": [
      "2023-05-05 19:32:23.471163: I tensorflow/core/common_runtime/gpu/gpu_device.cc:1525] Created device /job:localhost/replica:0/task:0/device:GPU:0 with 78997 MB memory:  -> device: 0, name: NVIDIA A100-SXM4-80GB, pci bus id: 0000:41:00.0, compute capability: 8.0\n"
     ]
    }
   ],
   "source": [
    "X_train, Y_train, imageIDs_train = loadCroppings(\"./data/stage1_train\", \"image_croppings\", \"mask_croppings\")\n",
    "X_val, Y_val, imageIDs_val = loadCroppings(\"./data/stage1_test\", \"image_croppings\", \"mask_croppings\")\n",
    "\n",
    "# Only Load During Testing\n",
    "# X_test, _, imageIDs_test = loadCroppings(\"./data/stage2_test_final\", \"image_croppings\")"
   ]
  },
  {
   "cell_type": "code",
   "execution_count": 5,
   "id": "76346bec",
   "metadata": {},
   "outputs": [
    {
     "data": {
      "text/plain": [
       "7315"
      ]
     },
     "execution_count": 5,
     "metadata": {},
     "output_type": "execute_result"
    }
   ],
   "source": [
    "len(X_train) #7315"
   ]
  },
  {
   "cell_type": "code",
   "execution_count": 6,
   "id": "f53bc09a",
   "metadata": {},
   "outputs": [
    {
     "name": "stdout",
     "output_type": "stream",
     "text": [
      "Cropping\n"
     ]
    },
    {
     "data": {
      "image/png": "[encoded data removed]",
      "text/plain": [
       "<PIL.Image.Image image mode=L size=128x128 at 0x14E29F39AA30>"
      ]
     },
     "metadata": {},
     "output_type": "display_data"
    },
    {
     "name": "stdout",
     "output_type": "stream",
     "text": [
      "[[2 2 0 ... 0 2 0]\n",
      " [0 0 0 ... 0 0 2]\n",
      " [2 0 0 ... 2 0 3]\n",
      " ...\n",
      " [0 0 0 ... 2 6 8]\n",
      " [0 0 0 ... 2 6 6]\n",
      " [0 0 0 ... 5 5 5]]\n",
      "Mask\n"
     ]
    },
    {
     "data": {
      "image/png": "[encoded data removed]",
      "text/plain": [
       "<PIL.Image.Image image mode=L size=128x128 at 0x14E238063DC0>"
      ]
     },
     "metadata": {},
     "output_type": "display_data"
    },
    {
     "name": "stdout",
     "output_type": "stream",
     "text": [
      "[[False False False ... False False False]\n",
      " [False False False ... False False False]\n",
      " [False False False ... False False False]\n",
      " ...\n",
      " [False False False ... False False False]\n",
      " [False False False ... False False False]\n",
      " [False False False ... False False False]]\n"
     ]
    }
   ],
   "source": [
    "print(\"Cropping\")\n",
    "display(Image.fromarray(X_train[12], 'L'))\n",
    "print(X_train[12])\n",
    "print(\"Mask\")\n",
    "display(Image.fromarray(Y_train[12], 'L'))\n",
    "print(Y_train[12])"
   ]
  },
  {
   "cell_type": "markdown",
   "id": "bb5f8a74",
   "metadata": {},
   "source": [
    "# Train Model"
   ]
  },
  {
   "cell_type": "code",
   "execution_count": 7,
   "id": "60a652ca",
   "metadata": {},
   "outputs": [],
   "source": [
    "# The convolation block \n",
    "def conv_block(input, num_filters):\n",
    "    x = Conv2D(num_filters, 3, padding=\"same\")(input)\n",
    "    x = BatchNormalization()(x)\n",
    "    x = Activation(\"relu\")(x)\n",
    "    x = Conv2D(num_filters, 3, padding=\"same\")(x)\n",
    "    x = BatchNormalization()(x)\n",
    "    x = Activation(\"relu\")(x)\n",
    "    \n",
    "    return x\n",
    "\n",
    "\n",
    "# The encoder block\n",
    "def encoder_block(input, num_filters):\n",
    "    x = conv_block(input, num_filters)\n",
    "    p = MaxPooling2D((2, 2))(x)\n",
    "    \n",
    "    return x, p\n",
    "\n",
    "\n",
    "# The decoder block\n",
    "def decoder_block(input, skip_features, num_filters):\n",
    "    x = Conv2DTranspose(num_filters, (2, 2), strides=2, padding=\"same\")(input)\n",
    "    x = Concatenate()([x, skip_features])\n",
    "    x = conv_block(x, num_filters)\n",
    "\n",
    "    return x"
   ]
  },
  {
   "cell_type": "code",
   "execution_count": 8,
   "id": "af4422bb",
   "metadata": {},
   "outputs": [],
   "source": [
    "def create_model(input_shape, LR):\n",
    "    inputs = Input(input_shape)\n",
    "\n",
    "    s1, p1 = encoder_block(inputs, 64)\n",
    "    s2, p2 = encoder_block(p1, 128)\n",
    "    s3, p3 = encoder_block(p2, 256)\n",
    "    s4, p4 = encoder_block(p3, 512)\n",
    "\n",
    "    b1 = conv_block(p4, 1024)\n",
    "\n",
    "    d1 = decoder_block(b1, s4, 512)\n",
    "    d2 = decoder_block(d1, s3, 256)\n",
    "    d3 = decoder_block(d2, s2, 128)\n",
    "    d4 = decoder_block(d3, s1, 64)\n",
    "\n",
    "    outputs = Conv2D(1, 1, padding=\"same\", activation=\"sigmoid\")(d4)\n",
    "\n",
    "    model = Model(inputs=inputs, outputs=outputs)\n",
    "\n",
    "    model.compile(optimizer=Adam(), #learning_rate=LR\n",
    "                  loss='binary_crossentropy', \n",
    "                  metrics=['accuracy'])\n",
    "\n",
    "    return model"
   ]
  },
  {
   "cell_type": "code",
   "execution_count": 9,
   "id": "677d3c8a",
   "metadata": {},
   "outputs": [
    {
     "name": "stdout",
     "output_type": "stream",
     "text": [
      "Model: \"model\"\n",
      "__________________________________________________________________________________________________\n",
      " Layer (type)                   Output Shape         Param #     Connected to                     \n",
      "==================================================================================================\n",
      " input_1 (InputLayer)           [(None, 128, 128, 1  0           []                               \n",
      "                                )]                                                                \n",
      "                                                                                                  \n",
      " conv2d (Conv2D)                (None, 128, 128, 64  640         ['input_1[0][0]']                \n",
      "                                )                                                                 \n",
      "                                                                                                  \n",
      " batch_normalization (BatchNorm  (None, 128, 128, 64  256        ['conv2d[0][0]']                 \n",
      " alization)                     )                                                                 \n",
      "                                                                                                  \n",
      " activation (Activation)        (None, 128, 128, 64  0           ['batch_normalization[0][0]']    \n",
      "                                )                                                                 \n",
      "                                                                                                  \n",
      " conv2d_1 (Conv2D)              (None, 128, 128, 64  36928       ['activation[0][0]']             \n",
      "                                )                                                                 \n",
      "                                                                                                  \n",
      " batch_normalization_1 (BatchNo  (None, 128, 128, 64  256        ['conv2d_1[0][0]']               \n",
      " rmalization)                   )                                                                 \n",
      "                                                                                                  \n",
      " activation_1 (Activation)      (None, 128, 128, 64  0           ['batch_normalization_1[0][0]']  \n",
      "                                )                                                                 \n",
      "                                                                                                  \n",
      " max_pooling2d (MaxPooling2D)   (None, 64, 64, 64)   0           ['activation_1[0][0]']           \n",
      "                                                                                                  \n",
      " conv2d_2 (Conv2D)              (None, 64, 64, 128)  73856       ['max_pooling2d[0][0]']          \n",
      "                                                                                                  \n",
      " batch_normalization_2 (BatchNo  (None, 64, 64, 128)  512        ['conv2d_2[0][0]']               \n",
      " rmalization)                                                                                     \n",
      "                                                                                                  \n",
      " activation_2 (Activation)      (None, 64, 64, 128)  0           ['batch_normalization_2[0][0]']  \n",
      "                                                                                                  \n",
      " conv2d_3 (Conv2D)              (None, 64, 64, 128)  147584      ['activation_2[0][0]']           \n",
      "                                                                                                  \n",
      " batch_normalization_3 (BatchNo  (None, 64, 64, 128)  512        ['conv2d_3[0][0]']               \n",
      " rmalization)                                                                                     \n",
      "                                                                                                  \n",
      " activation_3 (Activation)      (None, 64, 64, 128)  0           ['batch_normalization_3[0][0]']  \n",
      "                                                                                                  \n",
      " max_pooling2d_1 (MaxPooling2D)  (None, 32, 32, 128)  0          ['activation_3[0][0]']           \n",
      "                                                                                                  \n",
      " conv2d_4 (Conv2D)              (None, 32, 32, 256)  295168      ['max_pooling2d_1[0][0]']        \n",
      "                                                                                                  \n",
      " batch_normalization_4 (BatchNo  (None, 32, 32, 256)  1024       ['conv2d_4[0][0]']               \n",
      " rmalization)                                                                                     \n",
      "                                                                                                  \n",
      " activation_4 (Activation)      (None, 32, 32, 256)  0           ['batch_normalization_4[0][0]']  \n",
      "                                                                                                  \n",
      " conv2d_5 (Conv2D)              (None, 32, 32, 256)  590080      ['activation_4[0][0]']           \n",
      "                                                                                                  \n",
      " batch_normalization_5 (BatchNo  (None, 32, 32, 256)  1024       ['conv2d_5[0][0]']               \n",
      " rmalization)                                                                                     \n",
      "                                                                                                  \n",
      " activation_5 (Activation)      (None, 32, 32, 256)  0           ['batch_normalization_5[0][0]']  \n",
      "                                                                                                  \n",
      " max_pooling2d_2 (MaxPooling2D)  (None, 16, 16, 256)  0          ['activation_5[0][0]']           \n",
      "                                                                                                  \n",
      " conv2d_6 (Conv2D)              (None, 16, 16, 512)  1180160     ['max_pooling2d_2[0][0]']        \n",
      "                                                                                                  \n",
      " batch_normalization_6 (BatchNo  (None, 16, 16, 512)  2048       ['conv2d_6[0][0]']               \n",
      " rmalization)                                                                                     \n",
      "                                                                                                  \n",
      " activation_6 (Activation)      (None, 16, 16, 512)  0           ['batch_normalization_6[0][0]']  \n",
      "                                                                                                  \n",
      " conv2d_7 (Conv2D)              (None, 16, 16, 512)  2359808     ['activation_6[0][0]']           \n",
      "                                                                                                  \n",
      " batch_normalization_7 (BatchNo  (None, 16, 16, 512)  2048       ['conv2d_7[0][0]']               \n",
      " rmalization)                                                                                     \n",
      "                                                                                                  \n",
      " activation_7 (Activation)      (None, 16, 16, 512)  0           ['batch_normalization_7[0][0]']  \n",
      "                                                                                                  \n",
      " max_pooling2d_3 (MaxPooling2D)  (None, 8, 8, 512)   0           ['activation_7[0][0]']           \n",
      "                                                                                                  \n",
      " conv2d_8 (Conv2D)              (None, 8, 8, 1024)   4719616     ['max_pooling2d_3[0][0]']        \n",
      "                                                                                                  \n",
      " batch_normalization_8 (BatchNo  (None, 8, 8, 1024)  4096        ['conv2d_8[0][0]']               \n",
      " rmalization)                                                                                     \n",
      "                                                                                                  \n",
      " activation_8 (Activation)      (None, 8, 8, 1024)   0           ['batch_normalization_8[0][0]']  \n",
      "                                                                                                  \n",
      " conv2d_9 (Conv2D)              (None, 8, 8, 1024)   9438208     ['activation_8[0][0]']           \n",
      "                                                                                                  \n",
      " batch_normalization_9 (BatchNo  (None, 8, 8, 1024)  4096        ['conv2d_9[0][0]']               \n",
      " rmalization)                                                                                     \n",
      "                                                                                                  \n",
      " activation_9 (Activation)      (None, 8, 8, 1024)   0           ['batch_normalization_9[0][0]']  \n",
      "                                                                                                  \n",
      " conv2d_transpose (Conv2DTransp  (None, 16, 16, 512)  2097664    ['activation_9[0][0]']           \n",
      " ose)                                                                                             \n",
      "                                                                                                  \n",
      " concatenate (Concatenate)      (None, 16, 16, 1024  0           ['conv2d_transpose[0][0]',       \n",
      "                                )                                 'activation_7[0][0]']           \n",
      "                                                                                                  \n",
      " conv2d_10 (Conv2D)             (None, 16, 16, 512)  4719104     ['concatenate[0][0]']            \n",
      "                                                                                                  \n",
      " batch_normalization_10 (BatchN  (None, 16, 16, 512)  2048       ['conv2d_10[0][0]']              \n",
      " ormalization)                                                                                    \n",
      "                                                                                                  \n",
      " activation_10 (Activation)     (None, 16, 16, 512)  0           ['batch_normalization_10[0][0]'] \n",
      "                                                                                                  \n",
      " conv2d_11 (Conv2D)             (None, 16, 16, 512)  2359808     ['activation_10[0][0]']          \n",
      "                                                                                                  \n",
      " batch_normalization_11 (BatchN  (None, 16, 16, 512)  2048       ['conv2d_11[0][0]']              \n",
      " ormalization)                                                                                    \n",
      "                                                                                                  \n",
      " activation_11 (Activation)     (None, 16, 16, 512)  0           ['batch_normalization_11[0][0]'] \n",
      "                                                                                                  \n",
      " conv2d_transpose_1 (Conv2DTran  (None, 32, 32, 256)  524544     ['activation_11[0][0]']          \n",
      " spose)                                                                                           \n",
      "                                                                                                  \n",
      " concatenate_1 (Concatenate)    (None, 32, 32, 512)  0           ['conv2d_transpose_1[0][0]',     \n",
      "                                                                  'activation_5[0][0]']           \n",
      "                                                                                                  \n",
      " conv2d_12 (Conv2D)             (None, 32, 32, 256)  1179904     ['concatenate_1[0][0]']          \n",
      "                                                                                                  \n",
      " batch_normalization_12 (BatchN  (None, 32, 32, 256)  1024       ['conv2d_12[0][0]']              \n",
      " ormalization)                                                                                    \n",
      "                                                                                                  \n",
      " activation_12 (Activation)     (None, 32, 32, 256)  0           ['batch_normalization_12[0][0]'] \n",
      "                                                                                                  \n",
      " conv2d_13 (Conv2D)             (None, 32, 32, 256)  590080      ['activation_12[0][0]']          \n",
      "                                                                                                  \n",
      " batch_normalization_13 (BatchN  (None, 32, 32, 256)  1024       ['conv2d_13[0][0]']              \n",
      " ormalization)                                                                                    \n",
      "                                                                                                  \n",
      " activation_13 (Activation)     (None, 32, 32, 256)  0           ['batch_normalization_13[0][0]'] \n",
      "                                                                                                  \n",
      " conv2d_transpose_2 (Conv2DTran  (None, 64, 64, 128)  131200     ['activation_13[0][0]']          \n",
      " spose)                                                                                           \n",
      "                                                                                                  \n",
      " concatenate_2 (Concatenate)    (None, 64, 64, 256)  0           ['conv2d_transpose_2[0][0]',     \n",
      "                                                                  'activation_3[0][0]']           \n",
      "                                                                                                  \n",
      " conv2d_14 (Conv2D)             (None, 64, 64, 128)  295040      ['concatenate_2[0][0]']          \n",
      "                                                                                                  \n",
      " batch_normalization_14 (BatchN  (None, 64, 64, 128)  512        ['conv2d_14[0][0]']              \n",
      " ormalization)                                                                                    \n",
      "                                                                                                  \n",
      " activation_14 (Activation)     (None, 64, 64, 128)  0           ['batch_normalization_14[0][0]'] \n",
      "                                                                                                  \n",
      " conv2d_15 (Conv2D)             (None, 64, 64, 128)  147584      ['activation_14[0][0]']          \n",
      "                                                                                                  \n",
      " batch_normalization_15 (BatchN  (None, 64, 64, 128)  512        ['conv2d_15[0][0]']              \n",
      " ormalization)                                                                                    \n",
      "                                                                                                  \n",
      " activation_15 (Activation)     (None, 64, 64, 128)  0           ['batch_normalization_15[0][0]'] \n",
      "                                                                                                  \n",
      " conv2d_transpose_3 (Conv2DTran  (None, 128, 128, 64  32832      ['activation_15[0][0]']          \n",
      " spose)                         )                                                                 \n",
      "                                                                                                  \n",
      " concatenate_3 (Concatenate)    (None, 128, 128, 12  0           ['conv2d_transpose_3[0][0]',     \n",
      "                                8)                                'activation_1[0][0]']           \n",
      "                                                                                                  \n",
      " conv2d_16 (Conv2D)             (None, 128, 128, 64  73792       ['concatenate_3[0][0]']          \n",
      "                                )                                                                 \n",
      "                                                                                                  \n",
      " batch_normalization_16 (BatchN  (None, 128, 128, 64  256        ['conv2d_16[0][0]']              \n",
      " ormalization)                  )                                                                 \n",
      "                                                                                                  \n",
      " activation_16 (Activation)     (None, 128, 128, 64  0           ['batch_normalization_16[0][0]'] \n",
      "                                )                                                                 \n",
      "                                                                                                  \n",
      " conv2d_17 (Conv2D)             (None, 128, 128, 64  36928       ['activation_16[0][0]']          \n",
      "                                )                                                                 \n",
      "                                                                                                  \n",
      " batch_normalization_17 (BatchN  (None, 128, 128, 64  256        ['conv2d_17[0][0]']              \n",
      " ormalization)                  )                                                                 \n",
      "                                                                                                  \n",
      " activation_17 (Activation)     (None, 128, 128, 64  0           ['batch_normalization_17[0][0]'] \n",
      "                                )                                                                 \n",
      "                                                                                                  \n",
      " conv2d_18 (Conv2D)             (None, 128, 128, 1)  65          ['activation_17[0][0]']          \n",
      "                                                                                                  \n",
      "==================================================================================================\n",
      "Total params: 31,054,145\n",
      "Trainable params: 31,042,369\n",
      "Non-trainable params: 11,776\n",
      "__________________________________________________________________________________________________\n"
     ]
    }
   ],
   "source": [
    "batch_size = 16\n",
    "batches_per_epoch = int(len(X_train)/batch_size) \n",
    "epochs = 25\n",
    "LR = 0.0001\n",
    "stopping_patience = 10\n",
    "stopping_delta = 0.001\n",
    "\n",
    "model = create_model((128, 128, 1), LR)\n",
    "model.summary()"
   ]
  },
  {
   "cell_type": "code",
   "execution_count": 10,
   "id": "7e138236",
   "metadata": {},
   "outputs": [
    {
     "name": "stdout",
     "output_type": "stream",
     "text": [
      "Epoch 1/25\n"
     ]
    },
    {
     "name": "stderr",
     "output_type": "stream",
     "text": [
      "2023-05-05 19:33:04.172593: I tensorflow/stream_executor/cuda/cuda_dnn.cc:366] Loaded cuDNN version 8202\n"
     ]
    },
    {
     "name": "stdout",
     "output_type": "stream",
     "text": [
      "458/458 [==============================] - 43s 37ms/step - loss: 0.1176 - accuracy: 0.9581 - val_loss: 0.2070 - val_accuracy: 0.9169\n",
      "Epoch 2/25\n",
      "458/458 [==============================] - 16s 35ms/step - loss: 0.0714 - accuracy: 0.9725 - val_loss: 0.1138 - val_accuracy: 0.9532\n",
      "Epoch 3/25\n",
      "458/458 [==============================] - 16s 35ms/step - loss: 0.0654 - accuracy: 0.9749 - val_loss: 0.1384 - val_accuracy: 0.9465\n",
      "Epoch 4/25\n",
      "458/458 [==============================] - 16s 35ms/step - loss: 0.0624 - accuracy: 0.9760 - val_loss: 0.4057 - val_accuracy: 0.9275\n",
      "Epoch 5/25\n",
      "458/458 [==============================] - 16s 35ms/step - loss: 0.0594 - accuracy: 0.9771 - val_loss: 0.1313 - val_accuracy: 0.9377\n",
      "Epoch 6/25\n",
      "458/458 [==============================] - 16s 35ms/step - loss: 0.0545 - accuracy: 0.9793 - val_loss: 0.1661 - val_accuracy: 0.9480\n",
      "Epoch 7/25\n",
      "458/458 [==============================] - 16s 35ms/step - loss: 0.0531 - accuracy: 0.9797 - val_loss: 0.1304 - val_accuracy: 0.9510\n",
      "Epoch 8/25\n",
      "458/458 [==============================] - 16s 35ms/step - loss: 0.0517 - accuracy: 0.9803 - val_loss: 0.1618 - val_accuracy: 0.9442\n",
      "Epoch 9/25\n",
      "458/458 [==============================] - 16s 35ms/step - loss: 0.0511 - accuracy: 0.9804 - val_loss: 0.1681 - val_accuracy: 0.9447\n",
      "Epoch 10/25\n",
      "458/458 [==============================] - 16s 35ms/step - loss: 0.0496 - accuracy: 0.9811 - val_loss: 0.1125 - val_accuracy: 0.9511\n",
      "Epoch 11/25\n",
      "458/458 [==============================] - 16s 35ms/step - loss: 0.0481 - accuracy: 0.9816 - val_loss: 0.1650 - val_accuracy: 0.9474\n",
      "Epoch 12/25\n",
      "457/458 [============================>.] - ETA: 0s - loss: 0.0475 - accuracy: 0.9818Restoring model weights from the end of the best epoch: 2.\n",
      "458/458 [==============================] - 16s 35ms/step - loss: 0.0475 - accuracy: 0.9818 - val_loss: 0.1411 - val_accuracy: 0.9459\n",
      "Epoch 00012: early stopping\n"
     ]
    }
   ],
   "source": [
    "stopping_callback = tf.keras.callbacks.EarlyStopping(monitor='val_accuracy', \n",
    "                                                     patience=stopping_patience, \n",
    "                                                     min_delta=stopping_delta,\n",
    "                                                     verbose = 1,\n",
    "                                                     restore_best_weights=True)\n",
    "\n",
    "results = model.fit(X_train, Y_train, \n",
    "                    batch_size=batch_size,\n",
    "                    epochs=epochs,\n",
    "                    verbose=1,  \n",
    "                    validation_data=(X_val, Y_val),\n",
    "                    callbacks = [stopping_callback],\n",
    "                    shuffle=True)"
   ]
  },
  {
   "cell_type": "code",
   "execution_count": 11,
   "id": "4c2bf36b",
   "metadata": {},
   "outputs": [
    {
     "name": "stdout",
     "output_type": "stream",
     "text": [
      "Training set Accuracy: 0.9733\n",
      "Training set Loss:0.064996\n",
      "\n",
      "Validation set Accuracy: 0.9532\n",
      "Validation set Loss:0.113805\n",
      "\n"
     ]
    },
    {
     "data": {
      "image/png": "[encoded data removed]",
      "text/plain": [
       "<Figure size 864x288 with 2 Axes>"
      ]
     },
     "metadata": {
      "needs_background": "light"
     },
     "output_type": "display_data"
    }
   ],
   "source": [
    "[train_loss, train_accuracy] = model.evaluate(X_train, Y_train, verbose=0)\n",
    "print(\"Training set Accuracy:{:7.4f}\".format(train_accuracy))\n",
    "print(\"Training set Loss:{:7.6f}\\n\".format(train_loss))\n",
    "\n",
    "[val_loss, val_accuracy] = model.evaluate(X_val, Y_val, verbose=0)\n",
    "print(\"Validation set Accuracy:{:7.4f}\".format(val_accuracy))\n",
    "print(\"Validation set Loss:{:7.6f}\\n\".format(val_loss))\n",
    "\n",
    "plot_history(results)"
   ]
  },
  {
   "cell_type": "markdown",
   "id": "4db74a96",
   "metadata": {},
   "source": [
    "## Testing"
   ]
  },
  {
   "cell_type": "code",
   "execution_count": 12,
   "id": "73515841",
   "metadata": {},
   "outputs": [],
   "source": [
    "# Load Test Data\n",
    "X_test, _, imageIDs_test = loadCroppings(\"./data/stage2_test_final\", \"image_croppings\")"
   ]
  },
  {
   "cell_type": "code",
   "execution_count": null,
   "id": "b462af01",
   "metadata": {
    "scrolled": true
   },
   "outputs": [
    {
     "name": "stdout",
     "output_type": "stream",
     "text": [
      "229/229 [==============================] - 4s 15ms/step\n",
      "26/26 [==============================] - 0s 15ms/step\n",
      "1335/1335 [==============================] - 21s 16ms/step\n"
     ]
    }
   ],
   "source": [
    "preds_train = model.predict(X_train, verbose=1)\n",
    "preds_val = model.predict(X_val, verbose=1)\n",
    "#preds_test = model.predict(X_test, verbose=1)"
   ]
  },
  {
   "cell_type": "code",
   "execution_count": 18,
   "id": "cce72bc7",
   "metadata": {},
   "outputs": [
    {
     "ename": "NameError",
     "evalue": "name 'preds_test' is not defined",
     "output_type": "error",
     "traceback": [
      "\u001b[0;31m---------------------------------------------------------------------------\u001b[0m",
      "\u001b[0;31mNameError\u001b[0m                                 Traceback (most recent call last)",
      "\u001b[0;32m/tmp/ipykernel_2874473/623262819.py\u001b[0m in \u001b[0;36m<module>\u001b[0;34m\u001b[0m\n\u001b[1;32m      1\u001b[0m \u001b[0mpreds_train_t\u001b[0m \u001b[0;34m=\u001b[0m \u001b[0;34m(\u001b[0m\u001b[0mpreds_train\u001b[0m \u001b[0;34m>\u001b[0m \u001b[0;36m0.5\u001b[0m\u001b[0;34m)\u001b[0m\u001b[0;34m.\u001b[0m\u001b[0mastype\u001b[0m\u001b[0;34m(\u001b[0m\u001b[0mnp\u001b[0m\u001b[0;34m.\u001b[0m\u001b[0muint8\u001b[0m\u001b[0;34m)\u001b[0m\u001b[0;34m\u001b[0m\u001b[0;34m\u001b[0m\u001b[0m\n\u001b[1;32m      2\u001b[0m \u001b[0mpreds_val_t\u001b[0m \u001b[0;34m=\u001b[0m \u001b[0;34m(\u001b[0m\u001b[0mpreds_val\u001b[0m \u001b[0;34m>\u001b[0m \u001b[0;36m0.5\u001b[0m\u001b[0;34m)\u001b[0m\u001b[0;34m.\u001b[0m\u001b[0mastype\u001b[0m\u001b[0;34m(\u001b[0m\u001b[0mnp\u001b[0m\u001b[0;34m.\u001b[0m\u001b[0muint8\u001b[0m\u001b[0;34m)\u001b[0m\u001b[0;34m\u001b[0m\u001b[0;34m\u001b[0m\u001b[0m\n\u001b[0;32m----> 3\u001b[0;31m \u001b[0mpreds_test_t\u001b[0m \u001b[0;34m=\u001b[0m \u001b[0;34m(\u001b[0m\u001b[0mpreds_test\u001b[0m \u001b[0;34m>\u001b[0m \u001b[0;36m0.5\u001b[0m\u001b[0;34m)\u001b[0m\u001b[0;34m.\u001b[0m\u001b[0mastype\u001b[0m\u001b[0;34m(\u001b[0m\u001b[0mnp\u001b[0m\u001b[0;34m.\u001b[0m\u001b[0muint8\u001b[0m\u001b[0;34m)\u001b[0m\u001b[0;34m\u001b[0m\u001b[0;34m\u001b[0m\u001b[0m\n\u001b[0m\u001b[1;32m      4\u001b[0m \u001b[0;34m\u001b[0m\u001b[0m\n\u001b[1;32m      5\u001b[0m \u001b[0mix\u001b[0m \u001b[0;34m=\u001b[0m \u001b[0mrandom\u001b[0m\u001b[0;34m.\u001b[0m\u001b[0mrandint\u001b[0m\u001b[0;34m(\u001b[0m\u001b[0;36m0\u001b[0m\u001b[0;34m,\u001b[0m \u001b[0mlen\u001b[0m\u001b[0;34m(\u001b[0m\u001b[0mpreds_val_t\u001b[0m\u001b[0;34m)\u001b[0m\u001b[0;34m)\u001b[0m\u001b[0;34m\u001b[0m\u001b[0;34m\u001b[0m\u001b[0m\n",
      "\u001b[0;31mNameError\u001b[0m: name 'preds_test' is not defined"
     ]
    }
   ],
   "source": [
    "preds_train_t = (preds_train > 0.5).astype(np.uint8)\n",
    "preds_val_t = (preds_val > 0.5).astype(np.uint8)\n",
    "#preds_test_t = (preds_test > 0.5).astype(np.uint8)\n",
    "\n",
    "ix = random.randint(0, len(preds_val_t))\n",
    "display(Image.fromarray(X_val[ix], 'L'))\n",
    "display(Image.fromarray(Y_val[ix], 'L'))\n",
    "#display(Image.fromarray(preds_val_t[ix], 'L'))"
   ]
  },
  {
   "cell_type": "code",
   "execution_count": 13,
   "id": "5d8bdb98",
   "metadata": {},
   "outputs": [
    {
     "data": {
      "text/plain": [
       "78"
      ]
     },
     "execution_count": 13,
     "metadata": {},
     "output_type": "execute_result"
    }
   ],
   "source": [
    "ix"
   ]
  },
  {
   "cell_type": "markdown",
   "id": "3994963c",
   "metadata": {},
   "source": [
    "## Export Predicted masks to CSV"
   ]
  },
  {
   "cell_type": "code",
   "execution_count": 15,
   "id": "3408113f",
   "metadata": {},
   "outputs": [],
   "source": [
    "testset_predictions = (preds_test > 0.5).astype(np.uint8)"
   ]
  },
  {
   "cell_type": "code",
   "execution_count": 56,
   "id": "4235bd81",
   "metadata": {
    "scrolled": false
   },
   "outputs": [
    {
     "name": "stdout",
     "output_type": "stream",
     "text": [
      "Saving 3019 predictions\n",
      "5%\n",
      "10%\n",
      "15%\n",
      "20%\n",
      "25%\n",
      "30%\n",
      "35%\n",
      "40%\n",
      "45%\n",
      "50%\n",
      "55%\n",
      "60%\n",
      "65%\n",
      "70%\n",
      "75%\n",
      "80%\n",
      "85%\n",
      "90%\n",
      "95%\n",
      "100%\n",
      "\n",
      "Found 72769 nuclei in 3019 images\n"
     ]
    }
   ],
   "source": [
    "template_csv = \"./data/stage2_sample_submission_final.csv\"\n",
    "image_dir = \"./data/stage2_test_final\"\n",
    "output_csv = \"submission_test.csv\"\n",
    "\n",
    "show_no_nuclei_images = False\n",
    "\n",
    "print(f\"Saving {testset_predictions.shape[0]} predictions\")\n",
    "with open(output_csv, 'w', newline='') as output_csvfile:\n",
    "    writer = csv.DictWriter(output_csvfile, fieldnames=[\"ImageId\", \"EncodedPixels\"])\n",
    "    writer.writeheader()\n",
    "    total_nucleus_count = 0\n",
    "    \n",
    "    progress_indices = np.linspace(0, testset_predictions.shape[0], 21, dtype=int)\n",
    "    \n",
    "    with open(template_csv, newline='') as template_csvfile:\n",
    "        for i, (imgID, _) in enumerate(csv.reader(template_csvfile, delimiter=',')):\n",
    "            if i == 0: # Skip row with labels\n",
    "                continue\n",
    "\n",
    "            # Get Prediction For ImgID\n",
    "            prediction = testset_predictions[imageIDs_test.index(imgID)]\n",
    "\n",
    "            # TODO reconstruct mask predictions into original size\n",
    "            # Scale Predicted Mask Back To Original Image Size\n",
    "            original_image_size = Image.open(f\"{image_dir}/{imgID}/images/{os.listdir(f'{image_dir}/{imgID}/images')[0]}\").size\n",
    "            predicted_mask = tf.keras.utils.img_to_array(\n",
    "                tf.image.resize(prediction, original_image_size, method = tf.image.ResizeMethod.NEAREST_NEIGHBOR)\n",
    "            )[:, :, 0]\n",
    "            \n",
    "            predicted_mask_T = predicted_mask.transpose()\n",
    "            \n",
    "            # Label each nucleus in mask\n",
    "            (labeled_mask, nucleus_amount) = skimage.measure.label(predicted_mask_T, connectivity=2, background=0, return_num=True)\n",
    "            total_nucleus_count += nucleus_amount\n",
    "            if nucleus_amount == 0 and show_no_nuclei_images:\n",
    "                print(f\"No nuclei found for image {imgID}\")\n",
    "                try:\n",
    "                    display_img(Image.open(f\"{image_dir}/{imgID}/images/{os.listdir(f'{image_dir}/{imgID}/images')[0]}\"))\n",
    "                except:\n",
    "                    print(f\"Error while displaying image {imgID}\")\n",
    "            \n",
    "            # Calculate RLE\n",
    "            RLE = [[] for _ in range(nucleus_amount)]\n",
    "            curr_pixel = 1\n",
    "            run_length = 0\n",
    "            run_label = 0\n",
    "            \n",
    "            for i_c, c in enumerate(labeled_mask):\n",
    "                for i_r, x in enumerate(c):\n",
    "                    if x:\n",
    "                        if run_length == 0 or run_label != x:\n",
    "                            if run_length > 0:\n",
    "                                RLE[run_label-1].append(run_length)\n",
    "                                run_length = 0\n",
    "                            RLE[x-1].append(i_c * labeled_mask.shape[1] + i_r + 1)\n",
    "                            run_label = x\n",
    "                        run_length += 1\n",
    "                    elif run_length > 0:\n",
    "                        RLE[run_label-1].append(run_length)\n",
    "                        run_length = 0\n",
    "                        run_label = 0\n",
    "            if run_length > 0:\n",
    "                RLE[run_label-1].append(run_length)\n",
    "            \n",
    "            # Write To output file\n",
    "            for nucleus_RLE in RLE:\n",
    "                writer.writerow({\"ImageId\": imgID, \"EncodedPixels\": ' '.join(map(str, nucleus_RLE))})\n",
    "            \n",
    "            if nucleus_amount == 0: # default entry\n",
    "                writer.writerow({\"ImageId\": imgID, \"EncodedPixels\": ''})\n",
    "            \n",
    "            # Show sign of progress\n",
    "            if i in progress_indices:\n",
    "                print(f\"{np.where(progress_indices == i)[0][0] * 5}%\")\n",
    "    \n",
    "    print()\n",
    "    print(f\"Found {total_nucleus_count} nuclei in {testset_predictions.shape[0]} images\")"
   ]
  },
  {
   "cell_type": "markdown",
   "id": "01143412",
   "metadata": {},
   "source": [
    "#### Architectures to try out \n",
    "\n",
    "Attention U-net\n",
    "\n",
    "Residual U-Net\n",
    "\n",
    "Mask R-CNN\n",
    "\n",
    "Basic Unet + ResNet encoder"
   ]
  },
  {
   "cell_type": "code",
   "execution_count": null,
   "id": "be1afe86",
   "metadata": {},
   "outputs": [],
   "source": []
  }
 ],
 "metadata": {
  "kernelspec": {
   "display_name": "Python 3 (ipykernel)",
   "language": "python",
   "name": "python3"
  },
  "language_info": {
   "codemirror_mode": {
    "name": "ipython",
    "version": 3
   },
   "file_extension": ".py",
   "mimetype": "text/x-python",
   "name": "python",
   "nbconvert_exporter": "python",
   "pygments_lexer": "ipython3",
   "version": "3.9.6"
  }
 },
 "nbformat": 4,
 "nbformat_minor": 5
}
